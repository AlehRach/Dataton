{
 "cells": [
  {
   "cell_type": "code",
   "execution_count": 1,
   "id": "6605c98a",
   "metadata": {},
   "outputs": [
    {
     "name": "stderr",
     "output_type": "stream",
     "text": [
      "C:\\Users\\User\\AppData\\Local\\Temp\\ipykernel_7552\\4065295809.py:6: UserWarning: Could not infer format, so each element will be parsed individually, falling back to `dateutil`. To ensure parsing is consistent and as-expected, please specify a format.\n",
      "  df['month'] = pd.to_datetime(df['Data']).dt.month\n",
      "C:\\Users\\User\\AppData\\Local\\Temp\\ipykernel_7552\\4065295809.py:7: UserWarning: Could not infer format, so each element will be parsed individually, falling back to `dateutil`. To ensure parsing is consistent and as-expected, please specify a format.\n",
      "  df['day'] = pd.to_datetime(df['Data']).dt.day\n",
      "C:\\Users\\User\\AppData\\Local\\Temp\\ipykernel_7552\\4065295809.py:9: UserWarning: Could not infer format, so each element will be parsed individually, falling back to `dateutil`. To ensure parsing is consistent and as-expected, please specify a format.\n",
      "  df['hour'] = pd.to_datetime(df['Time']).dt.hour\n",
      "C:\\Users\\User\\AppData\\Local\\Temp\\ipykernel_7552\\4065295809.py:10: UserWarning: Could not infer format, so each element will be parsed individually, falling back to `dateutil`. To ensure parsing is consistent and as-expected, please specify a format.\n",
      "  df['minute'] = pd.to_datetime(df['Time']).dt.minute\n",
      "C:\\Users\\User\\AppData\\Local\\Temp\\ipykernel_7552\\4065295809.py:11: UserWarning: Could not infer format, so each element will be parsed individually, falling back to `dateutil`. To ensure parsing is consistent and as-expected, please specify a format.\n",
      "  df['second'] = pd.to_datetime(df['Time']).dt.second\n",
      "C:\\Users\\User\\AppData\\Local\\Temp\\ipykernel_7552\\4065295809.py:13: UserWarning: Could not infer format, so each element will be parsed individually, falling back to `dateutil`. To ensure parsing is consistent and as-expected, please specify a format.\n",
      "  df['rise_hour'] = pd.to_datetime(df['TimeSunRise']).dt.hour\n",
      "C:\\Users\\User\\AppData\\Local\\Temp\\ipykernel_7552\\4065295809.py:14: UserWarning: Could not infer format, so each element will be parsed individually, falling back to `dateutil`. To ensure parsing is consistent and as-expected, please specify a format.\n",
      "  df['rise_minute'] = pd.to_datetime(df['TimeSunRise']).dt.minute\n",
      "C:\\Users\\User\\AppData\\Local\\Temp\\ipykernel_7552\\4065295809.py:16: UserWarning: Could not infer format, so each element will be parsed individually, falling back to `dateutil`. To ensure parsing is consistent and as-expected, please specify a format.\n",
      "  df['set_hour'] = pd.to_datetime(df['TimeSunSet']).dt.hour\n",
      "C:\\Users\\User\\AppData\\Local\\Temp\\ipykernel_7552\\4065295809.py:17: UserWarning: Could not infer format, so each element will be parsed individually, falling back to `dateutil`. To ensure parsing is consistent and as-expected, please specify a format.\n",
      "  df['set_minute'] = pd.to_datetime(df['TimeSunSet']).dt.minute\n"
     ]
    }
   ],
   "source": [
    "import numpy as np \n",
    "import pandas as pd\n",
    "\n",
    "df = pd.read_csv('E:\\\\SkillFactory\\\\datatone\\\\SolarPrediction.csv')\n",
    "\n",
    "df['month'] = pd.to_datetime(df['Data']).dt.month\n",
    "df['day'] = pd.to_datetime(df['Data']).dt.day\n",
    "\n",
    "df['hour'] = pd.to_datetime(df['Time']).dt.hour\n",
    "df['minute'] = pd.to_datetime(df['Time']).dt.minute\n",
    "df['second'] = pd.to_datetime(df['Time']).dt.second\n",
    "\n",
    "df['rise_hour'] = pd.to_datetime(df['TimeSunRise']).dt.hour\n",
    "df['rise_minute'] = pd.to_datetime(df['TimeSunRise']).dt.minute\n",
    "\n",
    "df['set_hour'] = pd.to_datetime(df['TimeSunSet']).dt.hour\n",
    "df['set_minute'] = pd.to_datetime(df['TimeSunSet']).dt.minute\n",
    "\n",
    "df.drop(['UNIXTime', 'Data', 'Time', 'TimeSunRise', 'TimeSunSet'], axis = 1, inplace = True)\n",
    "\n",
    "def get_day(row):\n",
    "    if row['rise_hour'] < row['hour'] < row['set_hour']:\n",
    "        return 1\n",
    "    else:\n",
    "        return 0\n",
    "df['day'] = df.apply(get_day, axis=1) # создание нового признака, когда время наблюдения в период с восхода до захода солнца\n",
    "df_day = df[df['day']==1]\n",
    "\n",
    "from sklearn.metrics import mean_squared_error, r2_score\n",
    "from sklearn.model_selection import train_test_split\n",
    "from sklearn.preprocessing import StandardScaler\n",
    "from sklearn.model_selection import GridSearchCV\n",
    "from sklearn.metrics import mean_squared_error\n",
    "import pickle\n",
    "\n",
    "X = df_day[['Temperature', 'Pressure','Humidity', 'WindDirection(Degrees)', 'Speed', 'hour']]\n",
    "y = np.log(df_day['Radiation'])\n",
    "X_train, X_test, y_train, y_test = train_test_split(X, y, test_size=0.2, random_state=42)\n",
    "cbr_scaler = StandardScaler()\n",
    "X_train = cbr_scaler.fit_transform(X_train)\n",
    "\n",
    "with open('cbr_scaler.pkl', 'wb') as scaler_file:\n",
    "    pickle.dump(cbr_scaler, scaler_file)"
   ]
  },
  {
   "cell_type": "code",
   "execution_count": null,
   "id": "6aca2894",
   "metadata": {},
   "outputs": [],
   "source": [
    "X_test = cbr_scaler.transform(X_test)\n",
    "from catboost import CatBoostRegressor\n",
    "cbr_model = CatBoostRegressor(colsample_bylevel=1.0, learning_rate=0.1, max_depth=10, n_estimators=200, reg_lambda=3.0, subsample=1.0)\n",
    "cbr_model.fit(X_train, y_train)\n",
    "\n",
    "with open('cbr_model.pkl', 'wb') as model_file:\n",
    "    pickle.dump(cbr_model, model_file)"
   ]
  }
 ],
 "metadata": {
  "kernelspec": {
   "display_name": "Python 3 (ipykernel)",
   "language": "python",
   "name": "python3"
  },
  "language_info": {
   "codemirror_mode": {
    "name": "ipython",
    "version": 3
   },
   "file_extension": ".py",
   "mimetype": "text/x-python",
   "name": "python",
   "nbconvert_exporter": "python",
   "pygments_lexer": "ipython3",
   "version": "3.11.5"
  }
 },
 "nbformat": 4,
 "nbformat_minor": 5
}
